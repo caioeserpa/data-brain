{
  "nbformat": 4,
  "nbformat_minor": 0,
  "metadata": {
    "colab": {
      "provenance": [],
      "authorship_tag": "ABX9TyPe+k1Ab1e2uMsTho0nUmPN",
      "include_colab_link": true
    },
    "kernelspec": {
      "name": "python3",
      "display_name": "Python 3"
    },
    "language_info": {
      "name": "python"
    }
  },
  "cells": [
    {
      "cell_type": "markdown",
      "metadata": {
        "id": "view-in-github",
        "colab_type": "text"
      },
      "source": [
        "<a href=\"https://colab.research.google.com/github/caioeserpa/data-brain/blob/main/%5BRESUMO%5D_Hands_on_Machine_Learning_2.ipynb\" target=\"_parent\"><img src=\"https://colab.research.google.com/assets/colab-badge.svg\" alt=\"Open In Colab\"/></a>"
      ]
    },
    {
      "cell_type": "markdown",
      "source": [
        "# 1.  O que é aprendizado de Máquina?\n",
        "\n",
        "Aprendizado de máquina é a ciência (e a arte) da programação de computadores de modo que eles possam aprender com os dados."
      ],
      "metadata": {
        "id": "IiYLin9KdofT"
      }
    },
    {
      "cell_type": "markdown",
      "source": [
        "#1.  Tipos de Aprendizado de Máquina"
      ],
      "metadata": {
        "id": "K4rEcoX4iXlN"
      }
    },
    {
      "cell_type": "markdown",
      "source": [
        "##2. Aprendizado Supervisionado\n",
        "\n",
        "No aprendizado supervisionado, o conjunto de treinamento que você fornece ao algoritmo inclui as soluções desejadas, chamadas de rótulos ou labels"
      ],
      "metadata": {
        "id": "9mb_I4uZiJfI"
      }
    },
    {
      "cell_type": "markdown",
      "source": [
        "#### 4. Alguns Algoritmos\n",
        "\n",
        "- K-ésimo Vizinho mais próximo.\n",
        "- Regressão Linerar\n",
        "- SVMs\n",
        "- Árvores de Decisão\n",
        "- Florestas aleatórias\n",
        "- Redes Neurais\n"
      ],
      "metadata": {
        "id": "Z9hStTiewPav"
      }
    },
    {
      "cell_type": "markdown",
      "source": [
        "###3. Classificação"
      ],
      "metadata": {
        "id": "gohCAbkSixRy"
      }
    },
    {
      "cell_type": "markdown",
      "source": [
        "### 3. Regressão"
      ],
      "metadata": {
        "id": "1VQuqh-4iyrm"
      }
    },
    {
      "cell_type": "markdown",
      "source": [],
      "metadata": {
        "id": "nkOOdLFSwLgn"
      }
    },
    {
      "cell_type": "markdown",
      "source": [
        "## Aprendizado Não Supervisionado"
      ],
      "metadata": {
        "id": "_ojtm052ief6"
      }
    },
    {
      "cell_type": "markdown",
      "source": [
        "## Aprendizado por Reforço"
      ],
      "metadata": {
        "id": "iSWwHdI2iiBL"
      }
    },
    {
      "cell_type": "markdown",
      "source": [
        "## Apredizado"
      ],
      "metadata": {
        "id": "x9rRsAKVij72"
      }
    },
    {
      "cell_type": "code",
      "execution_count": null,
      "metadata": {
        "id": "uWZpO0RrPZ-h"
      },
      "outputs": [],
      "source": []
    }
  ]
}